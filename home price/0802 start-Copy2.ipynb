{
 "cells": [
  {
   "cell_type": "markdown",
   "metadata": {},
   "source": [
    "Guild:\n",
    "-simple is best\n",
    "-fill the NA with missing.\n",
    "-log the saleprice.\n",
    "\n"
   ]
  },
  {
   "cell_type": "markdown",
   "metadata": {},
   "source": [
    "Include Library"
   ]
  },
  {
   "cell_type": "code",
   "execution_count": 1,
   "metadata": {
    "collapsed": true
   },
   "outputs": [],
   "source": [
    "import pandas as pd\n",
    "import numpy as np\n",
    "from sklearn.model_selection import cross_val_score, train_test_split\n",
    "from sklearn.preprocessing import StandardScaler, PolynomialFeatures\n",
    "from sklearn.linear_model import LinearRegression, RidgeCV, LassoCV, ElasticNetCV\n",
    "from sklearn.tree import DecisionTreeRegressor\n",
    "from sklearn.metrics import mean_squared_error, make_scorer\n",
    "from scipy.stats import skew\n",
    "from IPython.display import display\n",
    "import matplotlib.pyplot as plt\n",
    "import seaborn as sns\n",
    "from sklearn.model_selection import train_test_split , StratifiedKFold\n",
    "\n",
    "from sklearn.model_selection import GridSearchCV, train_test_split\n",
    "from sklearn.model_selection import KFold\n",
    "\n",
    "from sklearn.linear_model import Ridge, RidgeCV, ElasticNet, LassoCV, LassoLarsCV\n",
    "from sklearn.model_selection import cross_val_score\n",
    "\n",
    "# Definitions\n",
    "pd.set_option('display.float_format', lambda x: '%.3f' % x)\n",
    "%matplotlib inline\n",
    "#njobs = 4\n",
    "\n",
    "#print the results not only the last line of code.\n",
    "from IPython.core.interactiveshell import InteractiveShell\n",
    "InteractiveShell.ast_node_interactivity = \"all\"\n",
    "\n",
    "import warnings\n",
    "warnings.filterwarnings(action=\"ignore\", module=\"scipy\", message=\"^internal gelsd\")"
   ]
  },
  {
   "cell_type": "markdown",
   "metadata": {},
   "source": [
    "Input Data"
   ]
  },
  {
   "cell_type": "code",
   "execution_count": 2,
   "metadata": {},
   "outputs": [
    {
     "name": "stdout",
     "output_type": "stream",
     "text": [
      "train : (1460, 81)\n",
      "test : (1459, 80)\n",
      "all_data : (2919, 81)\n"
     ]
    },
    {
     "data": {
      "text/plain": [
       "(1460, 81)"
      ]
     },
     "execution_count": 2,
     "metadata": {},
     "output_type": "execute_result"
    },
    {
     "data": {
      "text/plain": [
       "(1459, 81)"
      ]
     },
     "execution_count": 2,
     "metadata": {},
     "output_type": "execute_result"
    }
   ],
   "source": [
    "train = pd.read_csv(\"input/train.csv\")\n",
    "print(\"train : \" + str(train.shape))\n",
    "test = pd.read_csv(\"input/test.csv\")\n",
    "print(\"test : \" + str(test.shape))\n",
    "\n",
    "\n",
    "all_data = pd.concat( [ train, test] , axis=0 )\n",
    "print(\"all_data : \" + str(all_data.shape))\n",
    "trainAA=all_data[:train.shape[0]]\n",
    "testAA=all_data[train.shape[0]:]\n",
    "trainAA.shape\n",
    "testAA.shape"
   ]
  },
  {
   "cell_type": "code",
   "execution_count": 3,
   "metadata": {},
   "outputs": [
    {
     "name": "stdout",
     "output_type": "stream",
     "text": [
      "There are 0 duplicate IDs for 2919 total entries\n"
     ]
    }
   ],
   "source": [
    "# Check for duplicates\n",
    "idsUnique = len(set(all_data.Id))\n",
    "idsTotal = all_data.shape[0]\n",
    "idsDupli = idsTotal - idsUnique\n",
    "print(\"There are \" + str(idsDupli) + \" duplicate IDs for \" + str(idsTotal) + \" total entries\")\n",
    "\n",
    "\n",
    "# Drop Id column\n",
    "all_data.drop(\"Id\", axis = 1, inplace = True)\n",
    "\n"
   ]
  },
  {
   "cell_type": "markdown",
   "metadata": {},
   "source": [
    "Delete Outliers"
   ]
  },
  {
   "cell_type": "code",
   "execution_count": 4,
   "metadata": {},
   "outputs": [
    {
     "data": {
      "text/plain": [
       "<matplotlib.collections.PathCollection at 0x10890cf60>"
      ]
     },
     "execution_count": 4,
     "metadata": {},
     "output_type": "execute_result"
    },
    {
     "data": {
      "text/plain": [
       "<matplotlib.text.Text at 0x10913bcf8>"
      ]
     },
     "execution_count": 4,
     "metadata": {},
     "output_type": "execute_result"
    },
    {
     "data": {
      "text/plain": [
       "<matplotlib.text.Text at 0x1091096d8>"
      ]
     },
     "execution_count": 4,
     "metadata": {},
     "output_type": "execute_result"
    },
    {
     "data": {
      "text/plain": [
       "<matplotlib.text.Text at 0x109116908>"
      ]
     },
     "execution_count": 4,
     "metadata": {},
     "output_type": "execute_result"
    },
    {
     "data": {
      "image/png": "[encoded data removed]",
      "text/plain": [
       "<matplotlib.figure.Figure at 0x102c2a4e0>"
      ]
     },
     "metadata": {},
     "output_type": "display_data"
    },
    {
     "data": {
      "text/plain": [
       "(2914, 80)"
      ]
     },
     "execution_count": 4,
     "metadata": {},
     "output_type": "execute_result"
    }
   ],
   "source": [
    "# Looking for outliers, as indicated in https://ww2.amstat.org/publications/jse/v19n3/decock.pdf\n",
    "plt.scatter(all_data.GrLivArea, all_data.SalePrice, c = \"blue\", marker = \"s\")\n",
    "plt.title(\"Looking for outliers\")\n",
    "plt.xlabel(\"GrLivArea\")\n",
    "plt.ylabel(\"SalePrice\")\n",
    "plt.show()\n",
    "\n",
    "all_data = all_data[all_data.GrLivArea < 4000]\n",
    "all_data.shape\n",
    "plt.show()\n",
    "\n",
    "trainshape=train.shape[0]-5\n",
    "\n"
   ]
  },
  {
   "cell_type": "markdown",
   "metadata": {},
   "source": [
    "Transform price.\n",
    "Taking logs means that errors in predicting expensive houses and cheap houses will affect the result equally."
   ]
  },
  {
   "cell_type": "code",
   "execution_count": 5,
   "metadata": {
    "collapsed": true
   },
   "outputs": [],
   "source": [
    "# Log transform the target for official scoring\n",
    "all_data.SalePrice = np.log1p(all_data.SalePrice)\n",
    "\n",
    "y = all_data.SalePrice"
   ]
  },
  {
   "cell_type": "markdown",
   "metadata": {},
   "source": [
    "Fill Data"
   ]
  },
  {
   "cell_type": "code",
   "execution_count": 6,
   "metadata": {
    "collapsed": true
   },
   "outputs": [],
   "source": [
    "# Handle missing values for features where median/mean or most common value doesn't make sense\n",
    "\n",
    "# Alley : data description says NA means \"no alley access\"\n",
    "all_data.loc[:, \"Alley\"] = all_data.loc[:, \"Alley\"].fillna(\"None\")\n",
    "# BedroomAbvGr : NA most likely means 0\n",
    "all_data.loc[:, \"BedroomAbvGr\"] = all_data.loc[:, \"BedroomAbvGr\"].fillna(0)\n",
    "# BsmtQual etc : data description says NA for basement features is \"no basement\"\n",
    "all_data.loc[:, \"BsmtQual\"] = all_data.loc[:, \"BsmtQual\"].fillna(\"No\")\n",
    "all_data.loc[:, \"BsmtCond\"] = all_data.loc[:, \"BsmtCond\"].fillna(\"No\")\n",
    "all_data.loc[:, \"BsmtExposure\"] = all_data.loc[:, \"BsmtExposure\"].fillna(\"No\")\n",
    "all_data.loc[:, \"BsmtFinType1\"] = all_data.loc[:, \"BsmtFinType1\"].fillna(\"No\")\n",
    "all_data.loc[:, \"BsmtFinType2\"] = all_data.loc[:, \"BsmtFinType2\"].fillna(\"No\")\n",
    "all_data.loc[:, \"BsmtFullBath\"] = all_data.loc[:, \"BsmtFullBath\"].fillna(0)\n",
    "all_data.loc[:, \"BsmtHalfBath\"] = all_data.loc[:, \"BsmtHalfBath\"].fillna(0)\n",
    "all_data.loc[:, \"BsmtUnfSF\"] = all_data.loc[:, \"BsmtUnfSF\"].fillna(0)\n",
    "# CentralAir : NA most likely means No\n",
    "all_data.loc[:, \"CentralAir\"] = all_data.loc[:, \"CentralAir\"].fillna(\"N\")\n",
    "# Condition : NA most likely means Normal\n",
    "all_data.loc[:, \"Condition1\"] = all_data.loc[:, \"Condition1\"].fillna(\"Norm\")\n",
    "all_data.loc[:, \"Condition2\"] = all_data.loc[:, \"Condition2\"].fillna(\"Norm\")\n",
    "# EnclosedPorch : NA most likely means no enclosed porch\n",
    "all_data.loc[:, \"EnclosedPorch\"] = all_data.loc[:, \"EnclosedPorch\"].fillna(0)\n",
    "# External stuff : NA most likely means average\n",
    "all_data.loc[:, \"ExterCond\"] = all_data.loc[:, \"ExterCond\"].fillna(\"TA\")\n",
    "all_data.loc[:, \"ExterQual\"] = all_data.loc[:, \"ExterQual\"].fillna(\"TA\")\n",
    "# Fence : data description says NA means \"no fence\"\n",
    "all_data.loc[:, \"Fence\"] = all_data.loc[:, \"Fence\"].fillna(\"No\")\n",
    "# FireplaceQu : data description says NA means \"no fireplace\"\n",
    "all_data.loc[:, \"FireplaceQu\"] = all_data.loc[:, \"FireplaceQu\"].fillna(\"No\")\n",
    "all_data.loc[:, \"Fireplaces\"] = all_data.loc[:, \"Fireplaces\"].fillna(0)\n",
    "# Functional : data description says NA means typical\n",
    "all_data.loc[:, \"Functional\"] = all_data.loc[:, \"Functional\"].fillna(\"Typ\")\n",
    "# GarageType etc : data description says NA for garage features is \"no garage\"\n",
    "all_data.loc[:, \"GarageType\"] = all_data.loc[:, \"GarageType\"].fillna(\"No\")\n",
    "all_data.loc[:, \"GarageFinish\"] = all_data.loc[:, \"GarageFinish\"].fillna(\"No\")\n",
    "all_data.loc[:, \"GarageQual\"] = all_data.loc[:, \"GarageQual\"].fillna(\"No\")\n",
    "all_data.loc[:, \"GarageCond\"] = all_data.loc[:, \"GarageCond\"].fillna(\"No\")\n",
    "all_data.loc[:, \"GarageArea\"] = all_data.loc[:, \"GarageArea\"].fillna(0)\n",
    "all_data.loc[:, \"GarageCars\"] = all_data.loc[:, \"GarageCars\"].fillna(0)\n",
    "# HalfBath : NA most likely means no half baths above grade\n",
    "all_data.loc[:, \"HalfBath\"] = all_data.loc[:, \"HalfBath\"].fillna(0)\n",
    "# HeatingQC : NA most likely means typical\n",
    "all_data.loc[:, \"HeatingQC\"] = all_data.loc[:, \"HeatingQC\"].fillna(\"TA\")\n",
    "# KitchenAbvGr : NA most likely means 0\n",
    "all_data.loc[:, \"KitchenAbvGr\"] = all_data.loc[:, \"KitchenAbvGr\"].fillna(0)\n",
    "# KitchenQual : NA most likely means typical\n",
    "all_data.loc[:, \"KitchenQual\"] = all_data.loc[:, \"KitchenQual\"].fillna(\"TA\")\n",
    "# LotFrontage : NA most likely means no lot frontage\n",
    "all_data.loc[:, \"LotFrontage\"] = all_data.loc[:, \"LotFrontage\"].fillna(0)\n",
    "# LotShape : NA most likely means regular\n",
    "all_data.loc[:, \"LotShape\"] = all_data.loc[:, \"LotShape\"].fillna(\"Reg\")\n",
    "# MasVnrType : NA most likely means no veneer\n",
    "all_data.loc[:, \"MasVnrType\"] = all_data.loc[:, \"MasVnrType\"].fillna(\"None\")\n",
    "all_data.loc[:, \"MasVnrArea\"] = all_data.loc[:, \"MasVnrArea\"].fillna(0)\n",
    "# MiscFeature : data description says NA means \"no misc feature\"\n",
    "all_data.loc[:, \"MiscFeature\"] = all_data.loc[:, \"MiscFeature\"].fillna(\"No\")\n",
    "all_data.loc[:, \"MiscVal\"] = all_data.loc[:, \"MiscVal\"].fillna(0)\n",
    "# OpenPorchSF : NA most likely means no open porch\n",
    "all_data.loc[:, \"OpenPorchSF\"] = all_data.loc[:, \"OpenPorchSF\"].fillna(0)\n",
    "# PavedDrive : NA most likely means not paved\n",
    "all_data.loc[:, \"PavedDrive\"] = all_data.loc[:, \"PavedDrive\"].fillna(\"N\")\n",
    "# PoolQC : data description says NA means \"no pool\"\n",
    "all_data.loc[:, \"PoolQC\"] = all_data.loc[:, \"PoolQC\"].fillna(\"No\")\n",
    "all_data.loc[:, \"PoolArea\"] = all_data.loc[:, \"PoolArea\"].fillna(0)\n",
    "# SaleCondition : NA most likely means normal sale\n",
    "all_data.loc[:, \"SaleCondition\"] = all_data.loc[:, \"SaleCondition\"].fillna(\"Normal\")\n",
    "# ScreenPorch : NA most likely means no screen porch\n",
    "all_data.loc[:, \"ScreenPorch\"] = all_data.loc[:, \"ScreenPorch\"].fillna(0)\n",
    "# TotRmsAbvGrd : NA most likely means 0\n",
    "all_data.loc[:, \"TotRmsAbvGrd\"] = all_data.loc[:, \"TotRmsAbvGrd\"].fillna(0)\n",
    "# Utilities : NA most likely means all public utilities\n",
    "all_data.loc[:, \"Utilities\"] = all_data.loc[:, \"Utilities\"].fillna(\"AllPub\")\n",
    "# WoodDeckSF : NA most likely means no wood deck\n",
    "all_data.loc[:, \"WoodDeckSF\"] = all_data.loc[:, \"WoodDeckSF\"].fillna(0)"
   ]
  },
  {
   "cell_type": "code",
   "execution_count": 7,
   "metadata": {},
   "outputs": [
    {
     "data": {
      "text/html": [
       "<div>\n",
       "<style>\n",
       "    .dataframe thead tr:only-child th {\n",
       "        text-align: right;\n",
       "    }\n",
       "\n",
       "    .dataframe thead th {\n",
       "        text-align: left;\n",
       "    }\n",
       "\n",
       "    .dataframe tbody tr th {\n",
       "        vertical-align: top;\n",
       "    }\n",
       "</style>\n",
       "<table border=\"1\" class=\"dataframe\">\n",
       "  <thead>\n",
       "    <tr style=\"text-align: right;\">\n",
       "      <th></th>\n",
       "      <th>MSSubClass</th>\n",
       "    </tr>\n",
       "  </thead>\n",
       "  <tbody>\n",
       "    <tr>\n",
       "      <th>0</th>\n",
       "      <td>SC60</td>\n",
       "    </tr>\n",
       "    <tr>\n",
       "      <th>1</th>\n",
       "      <td>SC20</td>\n",
       "    </tr>\n",
       "    <tr>\n",
       "      <th>2</th>\n",
       "      <td>SC60</td>\n",
       "    </tr>\n",
       "    <tr>\n",
       "      <th>3</th>\n",
       "      <td>SC70</td>\n",
       "    </tr>\n",
       "    <tr>\n",
       "      <th>4</th>\n",
       "      <td>SC60</td>\n",
       "    </tr>\n",
       "  </tbody>\n",
       "</table>\n",
       "</div>"
      ],
      "text/plain": [
       "  MSSubClass\n",
       "0       SC60\n",
       "1       SC20\n",
       "2       SC60\n",
       "3       SC70\n",
       "4       SC60"
      ]
     },
     "execution_count": 7,
     "metadata": {},
     "output_type": "execute_result"
    }
   ],
   "source": [
    "# Some numerical features are actually really categories\n",
    "all_data = all_data.replace({\"MSSubClass\" : {20 : \"SC20\", 30 : \"SC30\", 40 : \"SC40\", 45 : \"SC45\", \n",
    "                                       50 : \"SC50\", 60 : \"SC60\", 70 : \"SC70\", 75 : \"SC75\", \n",
    "                                       80 : \"SC80\", 85 : \"SC85\", 90 : \"SC90\", 120 : \"SC120\", \n",
    "                                       150 : \"SC150\", 160 : \"SC160\", 180 : \"SC180\", 190 : \"SC190\"},\n",
    "                       \"MoSold\" : {1 : \"Jan\", 2 : \"Feb\", 3 : \"Mar\", 4 : \"Apr\", 5 : \"May\", 6 : \"Jun\",\n",
    "                                   7 : \"Jul\", 8 : \"Aug\", 9 : \"Sep\", 10 : \"Oct\", 11 : \"Nov\", 12 : \"Dec\"}\n",
    "                      })\n",
    "mss = pd.DataFrame()\n",
    "mss[\"MSSubClass\"]= all_data.MSSubClass\n",
    "mss.head()"
   ]
  },
  {
   "cell_type": "markdown",
   "metadata": {},
   "source": [
    "Skip 1* Simplifications of existing features\n",
    "     2* Combinations of existing features\n",
    "     "
   ]
  },
  {
   "cell_type": "code",
   "execution_count": 8,
   "metadata": {
    "collapsed": true
   },
   "outputs": [],
   "source": [
    "# Get dummies\n",
    "\n",
    "#all_data = pd.get_dummies(all_data)\n",
    "#all_data.head()"
   ]
  },
  {
   "cell_type": "code",
   "execution_count": 9,
   "metadata": {},
   "outputs": [
    {
     "name": "stdout",
     "output_type": "stream",
     "text": [
      "Find most important features relative to target\n",
      "SalePrice        1.000\n",
      "OverallQual      0.819\n",
      "GrLivArea        0.719\n",
      "GarageCars       0.680\n",
      "GarageArea       0.655\n",
      "TotalBsmtSF      0.642\n",
      "1stFlrSF         0.614\n",
      "FullBath         0.591\n",
      "YearBuilt        0.589\n",
      "YearRemodAdd     0.569\n",
      "GarageYrBlt      0.544\n",
      "TotRmsAbvGrd     0.533\n",
      "Fireplaces       0.487\n",
      "MasVnrArea       0.426\n",
      "BsmtFinSF1       0.383\n",
      "WoodDeckSF       0.331\n",
      "OpenPorchSF      0.327\n",
      "HalfBath         0.311\n",
      "2ndFlrSF         0.307\n",
      "LotArea          0.259\n",
      "BsmtFullBath     0.239\n",
      "BsmtUnfSF        0.223\n",
      "BedroomAbvGr     0.204\n",
      "LotFrontage      0.174\n",
      "ScreenPorch      0.124\n",
      "3SsnPorch        0.056\n",
      "PoolArea         0.041\n",
      "BsmtFinSF2       0.006\n",
      "BsmtHalfBath    -0.015\n",
      "MiscVal         -0.020\n",
      "YrSold          -0.034\n",
      "OverallCond     -0.037\n",
      "LowQualFinSF    -0.038\n",
      "KitchenAbvGr    -0.148\n",
      "EnclosedPorch   -0.149\n",
      "Name: SalePrice, dtype: float64\n"
     ]
    }
   ],
   "source": [
    "# Find most important features relative to target\n",
    "print(\"Find most important features relative to target\")\n",
    "corr = all_data.corr()\n",
    "corr.sort_values([\"SalePrice\"], ascending = False, inplace = True)\n",
    "print(corr.SalePrice)"
   ]
  },
  {
   "cell_type": "code",
   "execution_count": 10,
   "metadata": {
    "collapsed": true
   },
   "outputs": [],
   "source": [
    "# Create new features\n",
    "# 3* Polynomials on the top 10 existing features\n",
    "all_data[\"OverallQual-s2\"] = all_data[\"OverallQual\"] ** 2\n",
    "all_data[\"OverallQual-s3\"] = all_data[\"OverallQual\"] ** 3\n",
    "all_data[\"OverallQual-Sq\"] = np.sqrt(all_data[\"OverallQual\"])\n",
    "all_data[\"TotalBsmtSF-2\"] = all_data[\"TotalBsmtSF\"] ** 2\n",
    "all_data[\"TotalBsmtSF-3\"] = all_data[\"TotalBsmtSF\"] ** 3\n",
    "all_data[\"TotalBsmtSF-Sq\"] = np.sqrt(all_data[\"TotalBsmtSF\"])\n",
    "all_data[\"1stFlrSF-2\"] = all_data[\"1stFlrSF\"] ** 2\n",
    "all_data[\"1stFlrSF-3\"] = all_data[\"1stFlrSF\"] ** 3\n",
    "all_data[\"1stFlrSF-Sq\"] = np.sqrt(all_data[\"1stFlrSF\"])\n",
    "all_data[\"GrLivArea-2\"] = all_data[\"GrLivArea\"] ** 2\n",
    "all_data[\"GrLivArea-3\"] = all_data[\"GrLivArea\"] ** 3\n",
    "all_data[\"GrLivArea-Sq\"] = np.sqrt(all_data[\"GrLivArea\"])\n",
    "all_data[\"YearBuilt-s2\"] = all_data[\"YearBuilt\"] ** 2\n",
    "all_data[\"YearBuilt-s3\"] = all_data[\"YearBuilt\"] ** 3\n",
    "all_data[\"YearBuilt-Sq\"] = np.sqrt(all_data[\"YearBuilt\"])\n",
    "all_data[\"YearRemodAdd-2\"] = all_data[\"YearRemodAdd\"] ** 2\n",
    "all_data[\"YearRemodAdd-3\"] = all_data[\"YearRemodAdd\"] ** 3\n",
    "all_data[\"YearRemodAdd-Sq\"] = np.sqrt(all_data[\"YearRemodAdd\"])\n",
    "all_data[\"GarageCars-2\"] = all_data[\"GarageCars\"] ** 2\n",
    "all_data[\"GarageCars-3\"] = all_data[\"GarageCars\"] ** 3\n",
    "all_data[\"GarageCars-Sq\"] = np.sqrt(all_data[\"GarageCars\"])\n",
    "all_data[\"FullBath-2\"] = all_data[\"FullBath\"] ** 2\n",
    "all_data[\"FullBath-3\"] = all_data[\"FullBath\"] ** 3\n",
    "all_data[\"FullBath-Sq\"] = np.sqrt(all_data[\"FullBath\"])\n",
    "all_data[\"GarageYrBlt-2\"] = all_data[\"GarageYrBlt\"] ** 2\n",
    "all_data[\"GarageYrBlt-3\"] = all_data[\"GarageYrBlt\"] ** 3\n",
    "all_data[\"GarageYrBlt-Sq\"] = np.sqrt(all_data[\"GarageYrBlt\"])\n",
    "all_data[\"TotRmsAbvGrd-2\"] = all_data[\"TotRmsAbvGrd\"] ** 2\n",
    "all_data[\"TotRmsAbvGrd-3\"] = all_data[\"TotRmsAbvGrd\"] ** 3\n",
    "all_data[\"TotRmsAbvGrd-Sq\"] = np.sqrt(all_data[\"TotRmsAbvGrd\"])"
   ]
  },
  {
   "cell_type": "code",
   "execution_count": 11,
   "metadata": {},
   "outputs": [
    {
     "name": "stdout",
     "output_type": "stream",
     "text": [
      "Numerical features : 64\n",
      "Categorical features : 45\n"
     ]
    }
   ],
   "source": [
    "# Differentiate numerical features (minus the target) and categorical features\n",
    "categorical_features = all_data.select_dtypes(include = [\"object\"]).columns\n",
    "numerical_features = all_data.select_dtypes(exclude = [\"object\"]).columns\n",
    "numerical_features = numerical_features.drop(\"SalePrice\")\n",
    "print(\"Numerical features : \" + str(len(numerical_features)))\n",
    "print(\"Categorical features : \" + str(len(categorical_features)))\n",
    "all_data_num = all_data[numerical_features]\n",
    "all_data_cat = all_data[categorical_features]"
   ]
  },
  {
   "cell_type": "code",
   "execution_count": 12,
   "metadata": {},
   "outputs": [
    {
     "name": "stdout",
     "output_type": "stream",
     "text": [
      "NAs for numerical features in all_data : 642\n",
      "Remaining NAs for numerical features in all_data : 0\n"
     ]
    }
   ],
   "source": [
    "# Handle remaining missing values for numerical features by using median as replacement\n",
    "print(\"NAs for numerical features in all_data : \" + str(all_data_num.isnull().values.sum()))\n",
    "all_data_num = all_data_num.fillna(all_data_num.median())\n",
    "print(\"Remaining NAs for numerical features in all_data : \" + str(all_data_num.isnull().values.sum()))"
   ]
  },
  {
   "cell_type": "code",
   "execution_count": 13,
   "metadata": {},
   "outputs": [
    {
     "data": {
      "text/plain": [
       "1stFlrSF             0\n",
       "2ndFlrSF             0\n",
       "3SsnPorch            0\n",
       "Alley                0\n",
       "BedroomAbvGr         0\n",
       "BldgType             0\n",
       "BsmtCond             0\n",
       "BsmtExposure         0\n",
       "BsmtFinSF1           1\n",
       "BsmtFinSF2           1\n",
       "BsmtFinType1         0\n",
       "BsmtFinType2         0\n",
       "BsmtFullBath         0\n",
       "BsmtHalfBath         0\n",
       "BsmtQual             0\n",
       "BsmtUnfSF            0\n",
       "CentralAir           0\n",
       "Condition1           0\n",
       "Condition2           0\n",
       "Electrical           1\n",
       "EnclosedPorch        0\n",
       "ExterCond            0\n",
       "ExterQual            0\n",
       "Exterior1st          1\n",
       "Exterior2nd          1\n",
       "Fence                0\n",
       "FireplaceQu          0\n",
       "Fireplaces           0\n",
       "Foundation           0\n",
       "FullBath             0\n",
       "                  ... \n",
       "OverallQual-s2       0\n",
       "OverallQual-s3       0\n",
       "OverallQual-Sq       0\n",
       "TotalBsmtSF-2        1\n",
       "TotalBsmtSF-3        1\n",
       "TotalBsmtSF-Sq       1\n",
       "1stFlrSF-2           0\n",
       "1stFlrSF-3           0\n",
       "1stFlrSF-Sq          0\n",
       "GrLivArea-2          0\n",
       "GrLivArea-3          0\n",
       "GrLivArea-Sq         0\n",
       "YearBuilt-s2         0\n",
       "YearBuilt-s3         0\n",
       "YearBuilt-Sq         0\n",
       "YearRemodAdd-2       0\n",
       "YearRemodAdd-3       0\n",
       "YearRemodAdd-Sq      0\n",
       "GarageCars-2         0\n",
       "GarageCars-3         0\n",
       "GarageCars-Sq        0\n",
       "FullBath-2           0\n",
       "FullBath-3           0\n",
       "FullBath-Sq          0\n",
       "GarageYrBlt-2      159\n",
       "GarageYrBlt-3      159\n",
       "GarageYrBlt-Sq     159\n",
       "TotRmsAbvGrd-2       0\n",
       "TotRmsAbvGrd-3       0\n",
       "TotRmsAbvGrd-Sq      0\n",
       "Length: 110, dtype: int64"
      ]
     },
     "execution_count": 13,
     "metadata": {},
     "output_type": "execute_result"
    }
   ],
   "source": [
    "all_data.isnull().sum()"
   ]
  },
  {
   "cell_type": "code",
   "execution_count": 14,
   "metadata": {},
   "outputs": [
    {
     "name": "stdout",
     "output_type": "stream",
     "text": [
      "44 skewed numerical features to log transform\n"
     ]
    }
   ],
   "source": [
    "\n",
    "skewness = all_data_num.apply(lambda x: skew(x))\n",
    "skewness = skewness[abs(skewness) > 0.5]\n",
    "print(str(skewness.shape[0]) + \" skewed numerical features to log transform\")\n",
    "skewed_features = skewness.index\n",
    "all_data_num[skewed_features] = np.log1p(all_data_num[skewed_features])"
   ]
  },
  {
   "cell_type": "markdown",
   "metadata": {},
   "source": [
    "Modeling"
   ]
  },
  {
   "cell_type": "code",
   "execution_count": 15,
   "metadata": {
    "collapsed": true
   },
   "outputs": [],
   "source": [
    "# Join categorical and numerical features\n",
    "all_data = pd.concat([all_data_num, all_data_cat], axis = 1)"
   ]
  },
  {
   "cell_type": "code",
   "execution_count": 16,
   "metadata": {},
   "outputs": [
    {
     "data": {
      "text/html": [
       "<div>\n",
       "<style>\n",
       "    .dataframe thead tr:only-child th {\n",
       "        text-align: right;\n",
       "    }\n",
       "\n",
       "    .dataframe thead th {\n",
       "        text-align: left;\n",
       "    }\n",
       "\n",
       "    .dataframe tbody tr th {\n",
       "        vertical-align: top;\n",
       "    }\n",
       "</style>\n",
       "<table border=\"1\" class=\"dataframe\">\n",
       "  <thead>\n",
       "    <tr style=\"text-align: right;\">\n",
       "      <th></th>\n",
       "      <th>1stFlrSF</th>\n",
       "      <th>2ndFlrSF</th>\n",
       "      <th>3SsnPorch</th>\n",
       "      <th>BedroomAbvGr</th>\n",
       "      <th>BsmtFinSF1</th>\n",
       "      <th>BsmtFinSF2</th>\n",
       "      <th>BsmtFullBath</th>\n",
       "      <th>BsmtHalfBath</th>\n",
       "      <th>BsmtUnfSF</th>\n",
       "      <th>EnclosedPorch</th>\n",
       "      <th>...</th>\n",
       "      <th>SaleType_ConLD</th>\n",
       "      <th>SaleType_ConLI</th>\n",
       "      <th>SaleType_ConLw</th>\n",
       "      <th>SaleType_New</th>\n",
       "      <th>SaleType_Oth</th>\n",
       "      <th>SaleType_WD</th>\n",
       "      <th>Street_Grvl</th>\n",
       "      <th>Street_Pave</th>\n",
       "      <th>Utilities_AllPub</th>\n",
       "      <th>Utilities_NoSeWa</th>\n",
       "    </tr>\n",
       "  </thead>\n",
       "  <tbody>\n",
       "    <tr>\n",
       "      <th>0</th>\n",
       "      <td>6.753</td>\n",
       "      <td>6.751</td>\n",
       "      <td>0.000</td>\n",
       "      <td>3</td>\n",
       "      <td>6.561</td>\n",
       "      <td>0.000</td>\n",
       "      <td>0.693</td>\n",
       "      <td>0.000</td>\n",
       "      <td>5.017</td>\n",
       "      <td>0.000</td>\n",
       "      <td>...</td>\n",
       "      <td>0</td>\n",
       "      <td>0</td>\n",
       "      <td>0</td>\n",
       "      <td>0</td>\n",
       "      <td>0</td>\n",
       "      <td>1</td>\n",
       "      <td>0</td>\n",
       "      <td>1</td>\n",
       "      <td>1</td>\n",
       "      <td>0</td>\n",
       "    </tr>\n",
       "    <tr>\n",
       "      <th>1</th>\n",
       "      <td>7.141</td>\n",
       "      <td>0.000</td>\n",
       "      <td>0.000</td>\n",
       "      <td>3</td>\n",
       "      <td>6.887</td>\n",
       "      <td>0.000</td>\n",
       "      <td>0.000</td>\n",
       "      <td>0.693</td>\n",
       "      <td>5.652</td>\n",
       "      <td>0.000</td>\n",
       "      <td>...</td>\n",
       "      <td>0</td>\n",
       "      <td>0</td>\n",
       "      <td>0</td>\n",
       "      <td>0</td>\n",
       "      <td>0</td>\n",
       "      <td>1</td>\n",
       "      <td>0</td>\n",
       "      <td>1</td>\n",
       "      <td>1</td>\n",
       "      <td>0</td>\n",
       "    </tr>\n",
       "    <tr>\n",
       "      <th>2</th>\n",
       "      <td>6.825</td>\n",
       "      <td>6.765</td>\n",
       "      <td>0.000</td>\n",
       "      <td>3</td>\n",
       "      <td>6.188</td>\n",
       "      <td>0.000</td>\n",
       "      <td>0.693</td>\n",
       "      <td>0.000</td>\n",
       "      <td>6.075</td>\n",
       "      <td>0.000</td>\n",
       "      <td>...</td>\n",
       "      <td>0</td>\n",
       "      <td>0</td>\n",
       "      <td>0</td>\n",
       "      <td>0</td>\n",
       "      <td>0</td>\n",
       "      <td>1</td>\n",
       "      <td>0</td>\n",
       "      <td>1</td>\n",
       "      <td>1</td>\n",
       "      <td>0</td>\n",
       "    </tr>\n",
       "    <tr>\n",
       "      <th>3</th>\n",
       "      <td>6.869</td>\n",
       "      <td>6.629</td>\n",
       "      <td>0.000</td>\n",
       "      <td>3</td>\n",
       "      <td>5.380</td>\n",
       "      <td>0.000</td>\n",
       "      <td>0.693</td>\n",
       "      <td>0.000</td>\n",
       "      <td>6.293</td>\n",
       "      <td>5.609</td>\n",
       "      <td>...</td>\n",
       "      <td>0</td>\n",
       "      <td>0</td>\n",
       "      <td>0</td>\n",
       "      <td>0</td>\n",
       "      <td>0</td>\n",
       "      <td>1</td>\n",
       "      <td>0</td>\n",
       "      <td>1</td>\n",
       "      <td>1</td>\n",
       "      <td>0</td>\n",
       "    </tr>\n",
       "    <tr>\n",
       "      <th>4</th>\n",
       "      <td>7.044</td>\n",
       "      <td>6.960</td>\n",
       "      <td>0.000</td>\n",
       "      <td>4</td>\n",
       "      <td>6.486</td>\n",
       "      <td>0.000</td>\n",
       "      <td>0.693</td>\n",
       "      <td>0.000</td>\n",
       "      <td>6.196</td>\n",
       "      <td>0.000</td>\n",
       "      <td>...</td>\n",
       "      <td>0</td>\n",
       "      <td>0</td>\n",
       "      <td>0</td>\n",
       "      <td>0</td>\n",
       "      <td>0</td>\n",
       "      <td>1</td>\n",
       "      <td>0</td>\n",
       "      <td>1</td>\n",
       "      <td>1</td>\n",
       "      <td>0</td>\n",
       "    </tr>\n",
       "  </tbody>\n",
       "</table>\n",
       "<p>5 rows × 356 columns</p>\n",
       "</div>"
      ],
      "text/plain": [
       "   1stFlrSF  2ndFlrSF  3SsnPorch  BedroomAbvGr  BsmtFinSF1  BsmtFinSF2  \\\n",
       "0     6.753     6.751      0.000             3       6.561       0.000   \n",
       "1     7.141     0.000      0.000             3       6.887       0.000   \n",
       "2     6.825     6.765      0.000             3       6.188       0.000   \n",
       "3     6.869     6.629      0.000             3       5.380       0.000   \n",
       "4     7.044     6.960      0.000             4       6.486       0.000   \n",
       "\n",
       "   BsmtFullBath  BsmtHalfBath  BsmtUnfSF  EnclosedPorch        ...         \\\n",
       "0         0.693         0.000      5.017          0.000        ...          \n",
       "1         0.000         0.693      5.652          0.000        ...          \n",
       "2         0.693         0.000      6.075          0.000        ...          \n",
       "3         0.693         0.000      6.293          5.609        ...          \n",
       "4         0.693         0.000      6.196          0.000        ...          \n",
       "\n",
       "   SaleType_ConLD  SaleType_ConLI  SaleType_ConLw  SaleType_New  SaleType_Oth  \\\n",
       "0               0               0               0             0             0   \n",
       "1               0               0               0             0             0   \n",
       "2               0               0               0             0             0   \n",
       "3               0               0               0             0             0   \n",
       "4               0               0               0             0             0   \n",
       "\n",
       "   SaleType_WD  Street_Grvl  Street_Pave  Utilities_AllPub  Utilities_NoSeWa  \n",
       "0            1            0            1                 1                 0  \n",
       "1            1            0            1                 1                 0  \n",
       "2            1            0            1                 1                 0  \n",
       "3            1            0            1                 1                 0  \n",
       "4            1            0            1                 1                 0  \n",
       "\n",
       "[5 rows x 356 columns]"
      ]
     },
     "execution_count": 16,
     "metadata": {},
     "output_type": "execute_result"
    }
   ],
   "source": [
    "# Get dummies\n",
    "\n",
    "all_data_D = pd.get_dummies(all_data)\n",
    "all_data_D.head()"
   ]
  },
  {
   "cell_type": "code",
   "execution_count": 17,
   "metadata": {
    "collapsed": true
   },
   "outputs": [],
   "source": [
    "# Standardize numerical features\n",
    "stdSc = StandardScaler()\n",
    "all_data_STD = stdSc.fit_transform(all_data_D)"
   ]
  },
  {
   "cell_type": "code",
   "execution_count": 18,
   "metadata": {},
   "outputs": [
    {
     "name": "stdout",
     "output_type": "stream",
     "text": [
      "qual shape: (2914, 63903)\n"
     ]
    }
   ],
   "source": [
    "#add qual features\n",
    "\n",
    "quadratic=PolynomialFeatures(degree=2)\n",
    "qual_X=quadratic.fit_transform(all_data_STD)\n",
    "print (\"qual shape:\",qual_X.shape)"
   ]
  },
  {
   "cell_type": "code",
   "execution_count": 19,
   "metadata": {},
   "outputs": [
    {
     "name": "stdout",
     "output_type": "stream",
     "text": [
      "(2914, 356)\n"
     ]
    },
    {
     "data": {
      "text/plain": [
       "PCA(copy=True, iterated_power='auto', n_components=200, random_state=None,\n",
       "  svd_solver='auto', tol=0.0, whiten=False)"
      ]
     },
     "execution_count": 19,
     "metadata": {},
     "output_type": "execute_result"
    },
    {
     "name": "stdout",
     "output_type": "stream",
     "text": [
      "(2914, 200)\n"
     ]
    }
   ],
   "source": [
    "# PCA\n",
    "from sklearn.preprocessing import StandardScaler\n",
    "from sklearn.decomposition import PCA\n",
    "my_pca = PCA(n_components=200)\n",
    "print(all_data_STD.shape)\n",
    "#missing feature scaling and normalization\n",
    "my_pca.fit(all_data_STD)\n",
    "\n",
    "trans_X = my_pca.transform(all_data_STD)\n",
    "\n",
    "#my_pca.fit(qual_X)\n",
    "#trans_QX =  my_pca.transform(qual_X)\n",
    "\n",
    "\n",
    "trans_X=pd.DataFrame(trans_X)\n",
    "print(trans_X.shape)\n",
    "#trans_QX=pd.DataFrame(trans_QX)\n",
    "#trans_X.head()"
   ]
  },
  {
   "cell_type": "code",
   "execution_count": 20,
   "metadata": {},
   "outputs": [
    {
     "data": {
      "text/plain": [
       "(1455, 200)"
      ]
     },
     "execution_count": 20,
     "metadata": {},
     "output_type": "execute_result"
    },
    {
     "data": {
      "text/plain": [
       "(1455,)"
      ]
     },
     "execution_count": 20,
     "metadata": {},
     "output_type": "execute_result"
    },
    {
     "data": {
      "text/plain": [
       "(1459, 200)"
      ]
     },
     "execution_count": 20,
     "metadata": {},
     "output_type": "execute_result"
    },
    {
     "name": "stdout",
     "output_type": "stream",
     "text": [
      "New number of features : 200\n",
      "X_train : (1018, 200)\n",
      "X_test : (437, 200)\n",
      "y_train : (1018,)\n",
      "y_test : (437,)\n"
     ]
    }
   ],
   "source": [
    "\n",
    "# Split train and test\n",
    "train_valid_X=trans_X[:trainshape]\n",
    "train_valid_X.shape\n",
    "train_valid_Y=y[:trainshape]\n",
    "train_valid_Y.shape\n",
    "test_X =trans_X[trainshape:]\n",
    "test_X.shape\n",
    "\n",
    "\n",
    "\n",
    "print(\"New number of features : \" + str(trans_X.shape[1]))\n",
    "# Partition the dataset in all_data + validation sets\n",
    "X_train, X_test, y_train, y_test = train_test_split(train_valid_X, train_valid_Y, test_size = 0.3, random_state = 1)\n",
    "print(\"X_train : \" + str(X_train.shape))\n",
    "print(\"X_test : \" + str(X_test.shape))\n",
    "print(\"y_train : \" + str(y_train.shape))\n",
    "print(\"y_test : \" + str(y_test.shape))"
   ]
  },
  {
   "cell_type": "code",
   "execution_count": 42,
   "metadata": {},
   "outputs": [],
   "source": [
    "# Define error measure for official scoring : RMSE\n",
    "scorer = make_scorer(mean_squared_error, greater_is_better = False)\n",
    "\n",
    "\n",
    "def rmse_cv(model):\n",
    "    rmse= (-cross_val_score(model, train_valid_X, train_valid_Y, scoring=\"neg_mean_squared_error\", cv = 10))\n",
    "    return(rmse)\n",
    "\n",
    "def run(model):\n",
    "    \n",
    "    model.fit(X_train, y_train)\n",
    "    y_train_pred = model.predict(X_train)\n",
    "    y_test_pred = model.predict(X_test)\n",
    "    print (\"training error      :\",mean_squared_error(y_train, y_train_pred))\n",
    "    print (\"validation error    :\",mean_squared_error(y_test, y_test_pred))\n",
    "    print(\"RMSE on training set :\", rmse_cv(model).mean())\n",
    "    \n",
    "    model.fit(train_valid_X, train_valid_Y)\n",
    "    return model.predict(test_X)\n",
    "\n",
    "\n",
    "from sklearn.cross_validation import KFold\n",
    "\n",
    "def run_kfold(clf):\n",
    "    kf = KFold(trainshape, n_folds=10)\n",
    "    outcomes_train = []\n",
    "    outcomes_test = []\n",
    "    fold = 0\n",
    "    for train_index, test_index in kf:\n",
    "        fold += 1\n",
    "        X_train, X_test = train_valid_X.values[train_index], train_valid_X.values[test_index]\n",
    "        y_train, y_test = train_valid_Y.values[train_index], train_valid_Y.values[test_index]\n",
    "        clf.fit(X_train, y_train)\n",
    "        \n",
    "        prediction_train = clf.predict(X_train)\n",
    "        acc_train= mean_squared_error(y_train, prediction_train)\n",
    "        outcomes_train.append(acc_train)\n",
    "        \n",
    "        prediction_test = clf.predict(X_test)\n",
    "        acc_test = mean_squared_error(y_test, prediction_test)\n",
    "        outcomes_test.append(acc_test)\n",
    "        \n",
    "        print(\"Fold {0} MSE training error: {1}\".format(fold, acc_train), \n",
    "              \"Fold {0} MSE test     error: {1}\".format(fold, acc_test),)\n",
    "    mean_outcome_train = np.mean(outcomes_train)\n",
    "    mean_outcome_test= np.mean(outcomes_test)\n",
    "    print(\"Mean MSE training error: {0}\".format(mean_outcome_train)) \n",
    "    print(\"Mean MSE testint error : {0}\".format(mean_outcome_test)) \n",
    "    clf.fit(train_valid_X, train_valid_Y)\n",
    "    return clf.predict(test_X)\n"
   ]
  },
  {
   "cell_type": "code",
   "execution_count": 43,
   "metadata": {},
   "outputs": [
    {
     "name": "stdout",
     "output_type": "stream",
     "text": [
      "training error      : 0.00806546658932\n",
      "validation error    : 0.119894843787\n",
      "RMSE on training set : 0.164751358804\n"
     ]
    },
    {
     "data": {
      "text/plain": [
       "array([ 11.93106184,  11.70902512,  11.91045619,  12.076171  ,\n",
       "        12.15374688,  12.22332262,  12.01618502,  12.02195981,\n",
       "        11.99599142,  12.12752975])"
      ]
     },
     "execution_count": 43,
     "metadata": {},
     "output_type": "execute_result"
    }
   ],
   "source": [
    "# Linear Regression\n",
    "lr = LinearRegression()\n",
    "y_pred_lr=run(lr)\n",
    "y_pred_lr[:10]"
   ]
  },
  {
   "cell_type": "code",
   "execution_count": 44,
   "metadata": {},
   "outputs": [
    {
     "name": "stdout",
     "output_type": "stream",
     "text": [
      "Fold 1 MSE training error: 0.009436449769983053 Fold 1 MSE test     error: 0.16087825748738568\n",
      "Fold 2 MSE training error: 0.009800297079011592 Fold 2 MSE test     error: 0.08848639368376646\n",
      "Fold 3 MSE training error: 0.009559949915969205 Fold 3 MSE test     error: 0.024739856934308118\n",
      "Fold 4 MSE training error: 0.009446486879440401 Fold 4 MSE test     error: 0.017407458961096352\n",
      "Fold 5 MSE training error: 0.008759863711045441 Fold 5 MSE test     error: 0.15372296006273314\n",
      "Fold 6 MSE training error: 0.009916916796609167 Fold 6 MSE test     error: 0.020264476419886737\n",
      "Fold 7 MSE training error: 0.009526316413315744 Fold 7 MSE test     error: 1.0595915503826838\n",
      "Fold 8 MSE training error: 0.0097976224517772 Fold 8 MSE test     error: 0.013538491016672807\n",
      "Fold 9 MSE training error: 0.010095067907303997 Fold 9 MSE test     error: 0.0706707391293009\n",
      "Fold 10 MSE training error: 0.009427276449261116 Fold 10 MSE test     error: 0.03821340396012481\n",
      "Mean MSE training error: 0.009576624737371692\n",
      "Mean MSE testint error : 0.16475135880379588\n"
     ]
    },
    {
     "data": {
      "text/plain": [
       "array([ 11.93106184,  11.70902512,  11.91045619, ...,  11.9456509 ,\n",
       "        11.68594695,  12.26304027])"
      ]
     },
     "execution_count": 44,
     "metadata": {},
     "output_type": "execute_result"
    }
   ],
   "source": [
    "run_kfold(lr)"
   ]
  },
  {
   "cell_type": "code",
   "execution_count": 45,
   "metadata": {},
   "outputs": [
    {
     "name": "stdout",
     "output_type": "stream",
     "text": [
      "training error      : 0.00857299066961\n",
      "validation error    : 0.0185039799278\n",
      "RMSE on training set : 0.0150921967438\n"
     ]
    }
   ],
   "source": [
    "# Ridge\n",
    "ridge=Ridge(alpha=200)\n",
    "y_pred_ridge=run(ridge)"
   ]
  },
  {
   "cell_type": "code",
   "execution_count": 46,
   "metadata": {},
   "outputs": [
    {
     "name": "stdout",
     "output_type": "stream",
     "text": [
      "Fold 1 MSE training error: 0.009735037219418433 Fold 1 MSE test     error: 0.01715703386959254\n",
      "Fold 2 MSE training error: 0.0100538467039818 Fold 2 MSE test     error: 0.01384510938606414\n",
      "Fold 3 MSE training error: 0.009760787482018144 Fold 3 MSE test     error: 0.01619296707386939\n",
      "Fold 4 MSE training error: 0.009597482300804113 Fold 4 MSE test     error: 0.01653810078891805\n",
      "Fold 5 MSE training error: 0.00911614811916043 Fold 5 MSE test     error: 0.02124905498421457\n",
      "Fold 6 MSE training error: 0.010079591397059237 Fold 6 MSE test     error: 0.011447800721421432\n",
      "Fold 7 MSE training error: 0.009766936028664115 Fold 7 MSE test     error: 0.015446160100188075\n",
      "Fold 8 MSE training error: 0.009943226451894433 Fold 8 MSE test     error: 0.012047452809345565\n",
      "Fold 9 MSE training error: 0.010269340370216063 Fold 9 MSE test     error: 0.010405626934160124\n",
      "Fold 10 MSE training error: 0.009581885698392904 Fold 10 MSE test     error: 0.016592660770500114\n",
      "Mean MSE training error: 0.009790428177160967\n",
      "Mean MSE testint error : 0.015092196743827401\n"
     ]
    },
    {
     "data": {
      "text/plain": [
       "array([ 11.92311334,  11.69733138,  11.93309878, ...,  11.95025105,\n",
       "        11.69272798,  12.2737879 ])"
      ]
     },
     "execution_count": 46,
     "metadata": {},
     "output_type": "execute_result"
    }
   ],
   "source": [
    "run_kfold(ridge)"
   ]
  },
  {
   "cell_type": "code",
   "execution_count": 47,
   "metadata": {},
   "outputs": [
    {
     "name": "stdout",
     "output_type": "stream",
     "text": [
      "training error      : 0.00852303111925\n",
      "validation error    : 0.0193484868658\n",
      "RMSE on training set : 0.0156089385689\n"
     ]
    }
   ],
   "source": [
    "#lasso\n",
    "lasso = LassoCV(alphas = [1, 0.1, 0.001, 0.0005]).fit(train_valid_X, train_valid_Y)\n",
    "y_pred_lasso=run(lasso)"
   ]
  },
  {
   "cell_type": "code",
   "execution_count": 48,
   "metadata": {},
   "outputs": [
    {
     "name": "stdout",
     "output_type": "stream",
     "text": [
      "Fold 1 MSE training error: 0.009771708073437371 Fold 1 MSE test     error: 0.018526771642947682\n",
      "Fold 2 MSE training error: 0.010112655639006578 Fold 2 MSE test     error: 0.012612819126074301\n",
      "Fold 3 MSE training error: 0.009793964460587284 Fold 3 MSE test     error: 0.01850496905648305\n",
      "Fold 4 MSE training error: 0.00964006881350563 Fold 4 MSE test     error: 0.016860496896898412\n",
      "Fold 5 MSE training error: 0.009151252488581722 Fold 5 MSE test     error: 0.021687367259801457\n",
      "Fold 6 MSE training error: 0.010116785334234442 Fold 6 MSE test     error: 0.011480105493989099\n",
      "Fold 7 MSE training error: 0.009818419188866697 Fold 7 MSE test     error: 0.01473483516427329\n",
      "Fold 8 MSE training error: 0.009990153707561735 Fold 8 MSE test     error: 0.01192584426860616\n",
      "Fold 9 MSE training error: 0.010322496969093202 Fold 9 MSE test     error: 0.01129554888794739\n",
      "Fold 10 MSE training error: 0.009631103008006337 Fold 10 MSE test     error: 0.01846062789187089\n",
      "Mean MSE training error: 0.009834860768288099\n",
      "Mean MSE testint error : 0.015608938568889175\n"
     ]
    },
    {
     "data": {
      "text/plain": [
       "array([ 11.92715868,  11.69207351,  11.88108492, ...,  11.94479027,\n",
       "        11.69986393,  12.27893051])"
      ]
     },
     "execution_count": 48,
     "metadata": {},
     "output_type": "execute_result"
    }
   ],
   "source": [
    "run_kfold(lasso)"
   ]
  },
  {
   "cell_type": "code",
   "execution_count": 49,
   "metadata": {},
   "outputs": [
    {
     "name": "stdout",
     "output_type": "stream",
     "text": [
      "training error      : 0.0314377752959\n",
      "validation error    : 0.0393432282486\n",
      "RMSE on training set : 0.038947743347\n"
     ]
    }
   ],
   "source": [
    "# Decision Tree\n",
    "# Linear Regression\n",
    "tree = DecisionTreeRegressor(max_depth=3)\n",
    "Y_pred_tree=run(tree)"
   ]
  },
  {
   "cell_type": "code",
   "execution_count": 50,
   "metadata": {},
   "outputs": [
    {
     "name": "stdout",
     "output_type": "stream",
     "text": [
      "Fold 1 MSE training error: 0.03328777597781518 Fold 1 MSE test     error: 0.03968724993486836\n",
      "Fold 2 MSE training error: 0.032636641266061375 Fold 2 MSE test     error: 0.04086056013443112\n",
      "Fold 3 MSE training error: 0.0333321108078447 Fold 3 MSE test     error: 0.03507857080606983\n",
      "Fold 4 MSE training error: 0.03267855926480757 Fold 4 MSE test     error: 0.04272766028595117\n",
      "Fold 5 MSE training error: 0.03179057702812759 Fold 5 MSE test     error: 0.045975061957582344\n",
      "Fold 6 MSE training error: 0.03352075258291343 Fold 6 MSE test     error: 0.03471931569788638\n",
      "Fold 7 MSE training error: 0.03352799644650096 Fold 7 MSE test     error: 0.032598953114340655\n",
      "Fold 8 MSE training error: 0.03298962375994082 Fold 8 MSE test     error: 0.035420972435757085\n",
      "Fold 9 MSE training error: 0.03280303975035968 Fold 9 MSE test     error: 0.0410528914540695\n",
      "Fold 10 MSE training error: 0.03320439723683243 Fold 10 MSE test     error: 0.041356197649020904\n",
      "Mean MSE training error: 0.03297714741212038\n",
      "Mean MSE testint error : 0.03894774334699773\n"
     ]
    },
    {
     "data": {
      "text/plain": [
       "array([ 11.81414303,  11.58786235,  11.98000511, ...,  11.81414303,\n",
       "        11.81414303,  12.26792073])"
      ]
     },
     "execution_count": 50,
     "metadata": {},
     "output_type": "execute_result"
    }
   ],
   "source": [
    "run_kfold(tree)"
   ]
  },
  {
   "cell_type": "code",
   "execution_count": 51,
   "metadata": {
    "collapsed": true
   },
   "outputs": [],
   "source": [
    "# Ridge\n",
    "model_ridge = Ridge()\n",
    "alphas = [0.05, 0.1, 0.3, 1, 3, 5, 10, 15, 30, 50, 75,100,150,200, 250,300,350,500,650,800,1250,2000]\n",
    "cv_ridge = [rmse_cv(Ridge(alpha = alpha)).mean() \n",
    "            for alpha in alphas]"
   ]
  },
  {
   "cell_type": "code",
   "execution_count": 52,
   "metadata": {},
   "outputs": [
    {
     "data": {
      "text/plain": [
       "<matplotlib.axes._subplots.AxesSubplot at 0x1082f5198>"
      ]
     },
     "execution_count": 52,
     "metadata": {},
     "output_type": "execute_result"
    },
    {
     "data": {
      "text/plain": [
       "<matplotlib.text.Text at 0x108191f60>"
      ]
     },
     "execution_count": 52,
     "metadata": {},
     "output_type": "execute_result"
    },
    {
     "data": {
      "text/plain": [
       "<matplotlib.text.Text at 0x1082eca20>"
      ]
     },
     "execution_count": 52,
     "metadata": {},
     "output_type": "execute_result"
    },
    {
     "data": {
      "image/png": "[encoded data removed]",
      "text/plain": [
       "<matplotlib.figure.Figure at 0x163bac7b8>"
      ]
     },
     "metadata": {},
     "output_type": "display_data"
    }
   ],
   "source": [
    "cv_ridge = pd.Series(cv_ridge, index = alphas)\n",
    "cv_ridge.plot(title = \"Validation - Just Do It\")\n",
    "plt.xlabel(\"alpha\")\n",
    "plt.ylabel(\"rmse\")"
   ]
  },
  {
   "cell_type": "code",
   "execution_count": null,
   "metadata": {},
   "outputs": [
    {
     "data": {
      "text/plain": [
       "XGBRegressor(base_score=0.5, booster='gblinear', colsample_bylevel=1,\n",
       "       colsample_bytree=0, gamma=1, learning_rate=1, max_delta_step=0,\n",
       "       max_depth=100, min_child_weight=7, missing=None, n_estimators=7200,\n",
       "       n_jobs=1, nthread=None, objective='reg:linear', random_state=0,\n",
       "       reg_alpha=5, reg_lambda=0, scale_pos_weight=1, seed=1, silent=1,\n",
       "       subsample=0.5)"
      ]
     },
     "execution_count": 81,
     "metadata": {},
     "output_type": "execute_result"
    },
    {
     "name": "stdout",
     "output_type": "stream",
     "text": [
      "training error      : 0.0108280850213\n",
      "validation error    : 0.0184382541571\n"
     ]
    }
   ],
   "source": [
    "import xgboost as xgb\n",
    "\n",
    "regr = xgb.XGBRegressor(\n",
    "                 learning_rate=1,\n",
    "                 min_child_weight=7,\n",
    "                 gamma=1,\n",
    "                 subsample=0.5,\n",
    "                 colsample_bytree=0,\n",
    "                 max_depth=100,\n",
    "                 n_estimators=7200,                                                                  \n",
    "                 reg_alpha=5,\n",
    "                 reg_lambda=0,\n",
    "                 \n",
    "                 seed=1,\n",
    "                 silent=1,\n",
    "                 booster = 'gblinear')\n",
    "\n",
    "regr\n",
    "run(regr)"
   ]
  },
  {
   "cell_type": "code",
   "execution_count": 58,
   "metadata": {},
   "outputs": [
    {
     "name": "stdout",
     "output_type": "stream",
     "text": [
      "Fold 1 MSE training error: 0.0136187715233279 Fold 1 MSE test     error: 0.016051364553338655\n",
      "Fold 2 MSE training error: 0.014150573387145236 Fold 2 MSE test     error: 0.013838909252194621\n",
      "Fold 3 MSE training error: 0.013763007181741812 Fold 3 MSE test     error: 0.014240992990364808\n",
      "Fold 4 MSE training error: 0.013603926832557123 Fold 4 MSE test     error: 0.01774994870027775\n",
      "Fold 5 MSE training error: 0.013243728396974758 Fold 5 MSE test     error: 0.021063557844072135\n",
      "Fold 6 MSE training error: 0.014063982563135471 Fold 6 MSE test     error: 0.012180486283955351\n",
      "Fold 7 MSE training error: 0.013719230219229184 Fold 7 MSE test     error: 0.016796392363475784\n",
      "Fold 8 MSE training error: 0.013871274522756561 Fold 8 MSE test     error: 0.012895218286593985\n",
      "Fold 9 MSE training error: 0.01420317808876413 Fold 9 MSE test     error: 0.01251628030674713\n",
      "Fold 10 MSE training error: 0.013521226062100636 Fold 10 MSE test     error: 0.017561962463971324\n",
      "Mean MSE training error: 0.01377588987777328\n",
      "Mean MSE testint error : 0.015489511304499154\n"
     ]
    }
   ],
   "source": [
    "y_pred_regr=run_kfold(regr)"
   ]
  },
  {
   "cell_type": "code",
   "execution_count": null,
   "metadata": {
    "collapsed": true
   },
   "outputs": [],
   "source": [
    "#grid_search\n",
    "run_gs = True\n",
    "\n",
    "if run_gs:\n",
    "    parameters_grid = {\n",
    "       'learning_rate' : [0.01,0.1,0.2,0.5,1],\n",
    "        'min_child_weight':[1,3,5,7], \n",
    "       'gamma':[i/5.0 for i in range(0,5)], \n",
    "        'subsample':[i/5.0 for i in range(0,5)],\n",
    "        'colsample_bytree':[i/5.0 for i in range(0,5)],\n",
    "        'max_depth': [2,3,4,7,10,25],\n",
    "        'reg_alpha':[0.01, 0.1, 1.0,10,100],\n",
    "        'reg_lambda' : [0.0,0.001,0.01,0.1,1.0,10,100]\n",
    "                     }\n",
    "\n",
    " \n",
    "    regr = xgb.XGBRegressor(\n",
    "                 learning_rate=0.5,\n",
    "                 min_child_weight=4,\n",
    "                 gamma=0.0,\n",
    "                 subsample=0.1,\n",
    "                 colsample_bytree=0.0,\n",
    "                 max_depth=2,\n",
    "                 #n_estimators=7200,                                                                  \n",
    "                 reg_alpha=10,\n",
    "                 reg_lambda=0.0,\n",
    "                 \n",
    "                 seed=42,\n",
    "                 silent=1,\n",
    "                 booster = 'gblinear')\n",
    "    cross_validation = KFold(trainshape, n_folds=5)\n",
    "\n",
    "    grid_search = GridSearchCV(regr,\n",
    "                               param_grid=parameters_grid,\n",
    "                               cv=cross_validation\n",
    "                               )\n",
    "\n",
    "    grid_search.fit(train_valid_X, train_valid_Y)\n",
    "    model = grid_search\n",
    "    parameters = grid_search.best_params_\n",
    "\n",
    "    print('Best score: {}'.format(grid_search.best_score_))\n",
    "    print('Best parameters: {}'.format(grid_search.best_params_))\n",
    "else: \n",
    "    parameters = {'bootstrap': False, 'min_samples_leaf': 1, 'n_estimators': 50, \n",
    "                  'min_samples_split': 3, 'max_features': 'sqrt', 'max_depth': 8}\n",
    "    \n",
    "#    model = xbg.XGBRegressor(**parameters)"
   ]
  },
  {
   "cell_type": "code",
   "execution_count": null,
   "metadata": {
    "collapsed": true
   },
   "outputs": [],
   "source": [
    "# Plot residuals\n",
    "plt.scatter(y_train_pred, y_train_pred - y_train, c = \"blue\", marker = \"s\", label = \"Training data\")\n",
    "plt.scatter(y_test_pred, y_test_pred - y_test, c = \"lightgreen\", marker = \"s\", label = \"Validation data\")\n",
    "plt.title(\"Linear regression\")\n",
    "plt.xlabel(\"Predicted values\")\n",
    "plt.ylabel(\"Residuals\")\n",
    "plt.legend(loc = \"upper left\")\n",
    "plt.hlines(y = 0, xmin = 10.5, xmax = 13.5, color = \"red\")\n",
    "plt.show()\n",
    "\n",
    "# Plot predictions\n",
    "plt.scatter(y_train_pred, y_train, c = \"blue\", marker = \"s\", label = \"Training data\")\n",
    "plt.scatter(y_test_pred, y_test, c = \"lightgreen\", marker = \"s\", label = \"Validation data\")\n",
    "plt.title(\"Linear regression\")\n",
    "plt.xlabel(\"Predicted values\")\n",
    "plt.ylabel(\"Real values\")\n",
    "plt.legend(loc = \"upper left\")\n",
    "plt.plot([10.5, 13.5], [10.5, 13.5], c = \"red\")\n",
    "plt.show()\n"
   ]
  },
  {
   "cell_type": "code",
   "execution_count": null,
   "metadata": {
    "collapsed": true
   },
   "outputs": [],
   "source": [
    "Id = test.Id\n",
    "Id.shape\n",
    "Y_predout_lr=np.expm1(y_pred_lr)\n",
    "Y_predout_ridge=np.expm1(y_pred_ridge)\n",
    "Y_predout_tree=np.expm1(y_pred_tree)\n",
    "Y_predout_regr=np.expm1(y_pred_regr)\n",
    "Y_predout_lasso=np.expm1(y_pred_lasso)\n",
    "Y_predout=0.5*y_predout_lasso+0.5*y_predout_ridge\n",
    "#+0.2*Y_predout_tree\n",
    "#mean_squared_error(y_test, Y_predout)\n",
    "\n",
    "\n",
    "\n",
    "#print (Y_predout==int)\n",
    "\n",
    "Y_predout[:10]\n",
    "#solution = pd.DataFrame({\"id\": Id, \"SalePrice\":Y_Pred})\n",
    "#solution.to_csv(\"ridge_sol.csv\", index = False)"
   ]
  },
  {
   "cell_type": "code",
   "execution_count": null,
   "metadata": {
    "collapsed": true
   },
   "outputs": [],
   "source": [
    "Y_predout_regr=np.expm1(y_pred_regr)"
   ]
  },
  {
   "cell_type": "code",
   "execution_count": null,
   "metadata": {
    "collapsed": true
   },
   "outputs": [],
   "source": [
    "solution = pd.DataFrame({\"id\": test.Id, \"SalePrice\":Y_predout_regr})\n",
    "solution.to_csv(\"ridge_sol0808_XGB_3.csv\", index = False)"
   ]
  },
  {
   "cell_type": "code",
   "execution_count": null,
   "metadata": {
    "collapsed": true
   },
   "outputs": [],
   "source": []
  },
  {
   "cell_type": "code",
   "execution_count": null,
   "metadata": {
    "collapsed": true
   },
   "outputs": [],
   "source": []
  },
  {
   "cell_type": "code",
   "execution_count": null,
   "metadata": {
    "collapsed": true
   },
   "outputs": [],
   "source": []
  }
 ],
 "metadata": {
  "kernelspec": {
   "display_name": "Python 3",
   "language": "python",
   "name": "python3"
  },
  "language_info": {
   "codemirror_mode": {
    "name": "ipython",
    "version": 3
   },
   "file_extension": ".py",
   "mimetype": "text/x-python",
   "name": "python",
   "nbconvert_exporter": "python",
   "pygments_lexer": "ipython3",
   "version": "3.5.3"
  }
 },
 "nbformat": 4,
 "nbformat_minor": 2
}
